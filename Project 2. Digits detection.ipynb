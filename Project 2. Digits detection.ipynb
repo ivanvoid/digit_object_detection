{
 "cells": [
  {
   "cell_type": "markdown",
   "metadata": {},
   "source": [
    "Name: Kakhaev Ivan  \n",
    "ID: 0860838  \n",
    "  \n",
    "Repo: [github.com/veax-void/digit_object_detection](https://github.com/veax-void/digit_object_detection)  \n",
    "  \n",
    "# Introduction\n",
    "Data:   \n",
    "For train data it's: *see_bboxes.m*, *digitStruct.mat* and images in .png format  \n",
    "For test data it's: just images in .png format\n",
    "  \n",
    "Task:  \n",
    "Predict bounding boxes of digits on images from \"Google street view\".  \n",
    "  \n",
    "For this task I will use the Faster-RCNN model, with no augmentation because given a lot of data with high variance.  \n",
    "But I made an option for training with resized images.   \n",
    "First of all, load libs and config file for this run.\n"
   ]
  },
  {
   "cell_type": "code",
   "execution_count": 1,
   "metadata": {},
   "outputs": [],
   "source": [
    "import os\n",
    "import copy\n",
    "import json\n",
    "\n",
    "import numpy as np\n",
    "import pandas as pd\n",
    "\n",
    "from PIL import Image\n",
    "import matplotlib.pyplot as plt\n",
    "from matplotlib.patches import Rectangle\n",
    "\n",
    "import torch\n",
    "from torch.utils.data import Dataset, DataLoader\n",
    "\n",
    "import torchvision\n",
    "import torchvision.transforms as T\n",
    "from torchvision.transforms import functional as F\n",
    "\n",
    "from torchvision.models.detection.faster_rcnn import FastRCNNPredictor, FasterRCNN\n",
    "\n",
    "from IPython.display import clear_output\n",
    "\n",
    "from utils.collect_data import train_to_csv\n",
    "from utils.engine import train_one_epoch, evaluate\n",
    "import utils.utils\n"
   ]
  },
  {
   "cell_type": "code",
   "execution_count": 2,
   "metadata": {},
   "outputs": [
    {
     "name": "stdout",
     "output_type": "stream",
     "text": [
      "Config:\n",
      "MODEL:\n",
      "  N_CLASSES: 10\n",
      "  TRANSFER: False\n",
      "SYSTEM:\n",
      "  NUM_WORKERS: 4\n",
      "TRAIN:\n",
      "  BATCH_SIZE: 4\n",
      "  EPOCHS: 10\n",
      "  MODEL_PATH: ./models/model_2.pth\n",
      "  RESIZE_MODE: False\n",
      "  RESIZE_SIZE: (64, 64)\n"
     ]
    }
   ],
   "source": [
    "from configs.config import cfg\n",
    "\n",
    "config_path = 'configs/experiment_1.yaml'\n",
    "cfg.merge_from_file(config_path)\n",
    "print(f'Config:\\n{cfg}')\n"
   ]
  },
  {
   "cell_type": "markdown",
   "metadata": {},
   "source": [
    "# Data\n",
    "\n",
    "I need to assemble data from original dataset and put it in *train_img_bbox_data.csv* for faster access.  \n",
    "Data contained: filenames, coordinates of the bounding boxes, labels and image height.\n",
    "\n",
    "## Loading"
   ]
  },
  {
   "cell_type": "code",
   "execution_count": 17,
   "metadata": {},
   "outputs": [
    {
     "data": {
      "text/html": [
       "<div>\n",
       "<style scoped>\n",
       "    .dataframe tbody tr th:only-of-type {\n",
       "        vertical-align: middle;\n",
       "    }\n",
       "\n",
       "    .dataframe tbody tr th {\n",
       "        vertical-align: top;\n",
       "    }\n",
       "\n",
       "    .dataframe thead th {\n",
       "        text-align: right;\n",
       "    }\n",
       "</style>\n",
       "<table border=\"1\" class=\"dataframe\">\n",
       "  <thead>\n",
       "    <tr style=\"text-align: right;\">\n",
       "      <th></th>\n",
       "      <th>height</th>\n",
       "      <th>img_name</th>\n",
       "      <th>label</th>\n",
       "      <th>left</th>\n",
       "      <th>top</th>\n",
       "      <th>width</th>\n",
       "      <th>bottom</th>\n",
       "      <th>right</th>\n",
       "    </tr>\n",
       "  </thead>\n",
       "  <tbody>\n",
       "    <tr>\n",
       "      <th>0</th>\n",
       "      <td>219.0</td>\n",
       "      <td>1.png</td>\n",
       "      <td>1.0</td>\n",
       "      <td>246.0</td>\n",
       "      <td>77.0</td>\n",
       "      <td>81.0</td>\n",
       "      <td>296.0</td>\n",
       "      <td>327.0</td>\n",
       "    </tr>\n",
       "    <tr>\n",
       "      <th>1</th>\n",
       "      <td>219.0</td>\n",
       "      <td>1.png</td>\n",
       "      <td>9.0</td>\n",
       "      <td>323.0</td>\n",
       "      <td>81.0</td>\n",
       "      <td>96.0</td>\n",
       "      <td>300.0</td>\n",
       "      <td>419.0</td>\n",
       "    </tr>\n",
       "    <tr>\n",
       "      <th>2</th>\n",
       "      <td>32.0</td>\n",
       "      <td>2.png</td>\n",
       "      <td>2.0</td>\n",
       "      <td>77.0</td>\n",
       "      <td>29.0</td>\n",
       "      <td>23.0</td>\n",
       "      <td>61.0</td>\n",
       "      <td>100.0</td>\n",
       "    </tr>\n",
       "    <tr>\n",
       "      <th>3</th>\n",
       "      <td>32.0</td>\n",
       "      <td>2.png</td>\n",
       "      <td>3.0</td>\n",
       "      <td>98.0</td>\n",
       "      <td>25.0</td>\n",
       "      <td>26.0</td>\n",
       "      <td>57.0</td>\n",
       "      <td>124.0</td>\n",
       "    </tr>\n",
       "    <tr>\n",
       "      <th>4</th>\n",
       "      <td>15.0</td>\n",
       "      <td>3.png</td>\n",
       "      <td>2.0</td>\n",
       "      <td>17.0</td>\n",
       "      <td>5.0</td>\n",
       "      <td>8.0</td>\n",
       "      <td>20.0</td>\n",
       "      <td>25.0</td>\n",
       "    </tr>\n",
       "  </tbody>\n",
       "</table>\n",
       "</div>"
      ],
      "text/plain": [
       "   height img_name  label   left   top  width  bottom  right\n",
       "0   219.0    1.png    1.0  246.0  77.0   81.0   296.0  327.0\n",
       "1   219.0    1.png    9.0  323.0  81.0   96.0   300.0  419.0\n",
       "2    32.0    2.png    2.0   77.0  29.0   23.0    61.0  100.0\n",
       "3    32.0    2.png    3.0   98.0  25.0   26.0    57.0  124.0\n",
       "4    15.0    3.png    2.0   17.0   5.0    8.0    20.0   25.0"
      ]
     },
     "execution_count": 17,
     "metadata": {},
     "output_type": "execute_result"
    }
   ],
   "source": [
    "test_folder = './test'\n",
    "img_folder = './train'\n",
    "mat_file_name = 'digitStruct.mat'\n",
    "csv_train_name = './outputs/train_img_bbox_data.csv'\n",
    "\n",
    "if not os.path.exists(csv_train_name):\n",
    "    print('Please wait for data to get ready...')\n",
    "    train_to_csv(img_folder, mat_file_name, csv_train_name)\n",
    "\n",
    "img_bbox_data = pd.read_csv(csv_train_name)\n",
    "img_bbox_data.head()\n"
   ]
  },
  {
   "cell_type": "markdown",
   "metadata": {},
   "source": [
    "## Dataset\n",
    "Digit_Dataset translating data about files *img_bbox_data* to sample that is valid for Faster-RCNN."
   ]
  },
  {
   "cell_type": "code",
   "execution_count": 4,
   "metadata": {},
   "outputs": [],
   "source": [
    "class Digit_Dataset(Dataset):\n",
    "    def __init__(self, img_folder, img_bbox_data, transforms=None):\n",
    "        self.img_bbox_data = img_bbox_data\n",
    "        self.img_folder = img_folder\n",
    "        self.transforms = transforms\n",
    "\n",
    "    def __getitem__(self, idx):\n",
    "        img_name = img_bbox_data['img_name'].unique()[idx]\n",
    "        img = Image.open(self.img_folder+'/'+img_name).convert(\"RGB\")\n",
    "\n",
    "        target = {}\n",
    "        target['boxes'] = []\n",
    "        target['labels'] = []\n",
    "        target['img_id'] = torch.tensor([int(img_name[:-4])])\n",
    "        target['area'] = []\n",
    "        target['iscrowd'] = []\n",
    "\n",
    "        cond = self.img_bbox_data['img_name'] == img_name\n",
    "        bb_data = self.img_bbox_data[cond]\n",
    "\n",
    "        for i in range(bb_data.shape[0]):\n",
    "            # [x0, y0, x1, y1]\n",
    "            x0 = bb_data.iloc[i]['left']\n",
    "            x1 = bb_data.iloc[i]['right']\n",
    "            y0 = bb_data.iloc[i]['top']\n",
    "            y1 = bb_data.iloc[i]['bottom']\n",
    "\n",
    "            boxes = [x0, y0, x1, y1]\n",
    "            target['boxes'] += [boxes]\n",
    "            target['labels'] += [bb_data.iloc[i]['label'].astype('int') - 1]\n",
    "            target['area'] += [(boxes[3] - boxes[1]) * (boxes[2] - boxes[0])]\n",
    "            target['iscrowd'] += [0]\n",
    "\n",
    "        target['boxes'] = torch.as_tensor(\n",
    "            target['boxes'], dtype=torch.float32)\n",
    "        target['labels'] = torch.as_tensor(\n",
    "            target['labels'], dtype=torch.int64)\n",
    "        target['area'] = torch.as_tensor(\n",
    "            target['area'], dtype=torch.float32)\n",
    "        target['iscrowd'] = torch.as_tensor(\n",
    "            target['iscrowd'], dtype=torch.int64)\n",
    "\n",
    "        if self.transforms:\n",
    "            img, target = self.transforms(img, target)\n",
    "\n",
    "        return img, target\n",
    "\n",
    "    def __len__(self):\n",
    "        return self.img_bbox_data['img_name'].unique().size\n"
   ]
  },
  {
   "cell_type": "markdown",
   "metadata": {},
   "source": [
    "## Transforms\n",
    "Here I just redefined basic transforms to handle new data format that will be returned by Dataset."
   ]
  },
  {
   "cell_type": "code",
   "execution_count": 10,
   "metadata": {},
   "outputs": [],
   "source": [
    "class Compose(object):\n",
    "    def __init__(self, transforms):\n",
    "        self.transforms = transforms\n",
    "\n",
    "    def __call__(self, image, target):\n",
    "        for t in self.transforms:\n",
    "            image, target = t(image, target)\n",
    "        return image, target\n",
    "\n",
    "\n",
    "class ToTensor(object):\n",
    "    def __call__(self, image, target):\n",
    "        image = F.to_tensor(image)\n",
    "        return image, target\n",
    "\n",
    "\n",
    "class Resize(object):\n",
    "    def __init__(self, size):\n",
    "        self.size = size\n",
    "\n",
    "    def __call__(self, image, target):\n",
    "        # img\n",
    "        w, h = image.size\n",
    "        image = image.resize(self.size)\n",
    "\n",
    "        # Scale update\n",
    "        x_scale = self.size[0] / w\n",
    "        y_scale = self.size[1] / h\n",
    "\n",
    "        # coords\n",
    "        boxes = target['boxes']\n",
    "        boxes[:, 0] *= x_scale\n",
    "        boxes[:, 2] *= x_scale\n",
    "        boxes[:, 1] *= y_scale\n",
    "        boxes[:, 3] *= y_scale\n",
    "        target['boxes'] = boxes\n",
    "\n",
    "        # Areas\n",
    "        a = (boxes[:, 3] - boxes[:, 1])\n",
    "        b = (boxes[:, 2] - boxes[:, 0])\n",
    "        target['area'] = a * b\n",
    "\n",
    "        return image, target\n",
    "\n",
    "transform = Compose([\n",
    "    ToTensor()\n",
    "])\n",
    "\n",
    "test_transform = T.Compose([\n",
    "    T.ToTensor()\n",
    "])\n",
    "\n",
    "if cfg.TRAIN.RESIZE_MODE:\n",
    "    transform = Compose([\n",
    "        Resize(cfg.TRAIN.RESIZE_SIZE),\n",
    "        ToTensor()\n",
    "    ])\n",
    "\n",
    "    test_transform = T.Compose([\n",
    "        T.Resize(cfg.TRAIN.RESIZE_SIZE),\n",
    "        T.ToTensor()\n",
    "    ])  "
   ]
  },
  {
   "cell_type": "markdown",
   "metadata": {},
   "source": [
    "## Dataloader\n",
    "Just use *collate_fn* to ensure that targets in dataloder will be right formating for the model. "
   ]
  },
  {
   "cell_type": "code",
   "execution_count": 11,
   "metadata": {},
   "outputs": [],
   "source": [
    "def collate_fn(batch):\n",
    "    return tuple(zip(*batch))\n",
    "\n",
    "train_ds = Digit_Dataset(img_folder, img_bbox_data, transform)\n",
    "train_dl = DataLoader(train_ds, batch_size=cfg.TRAIN.BATCH_SIZE,\n",
    "                      shuffle=True, collate_fn=collate_fn, num_workers=cfg.SYSTEM.NUM_WORKERS)\n"
   ]
  },
  {
   "cell_type": "markdown",
   "metadata": {},
   "source": [
    "# Model\n",
    "Here you can see func *set_parameter_requires_grad* that will be used if *cfg.MODEL.TRANSFER* equals True, for setting the model into transfer learning mode.  \n",
    "Then replacing old head of the model with a new one with number of classes of *cfg.MODEL.N_CLASSES*."
   ]
  },
  {
   "cell_type": "code",
   "execution_count": 12,
   "metadata": {},
   "outputs": [],
   "source": [
    "# This is to set modet to transfer learning mode\n",
    "def set_parameter_requires_grad(model, feature_extracting):\n",
    "    if feature_extracting:\n",
    "        for param in model.parameters():\n",
    "            param.requires_grad = False\n",
    "    return model\n"
   ]
  },
  {
   "cell_type": "code",
   "execution_count": 13,
   "metadata": {},
   "outputs": [],
   "source": [
    "# load a model pre-trained pre-trained on COCO\n",
    "model = torchvision.models.detection.fasterrcnn_resnet50_fpn(pretrained=True)\n",
    "if cfg.MODEL.TRANSFER:\n",
    "    model = set_parameter_requires_grad(model, True)\n",
    "\n",
    "# num_classes\n",
    "num_classes = cfg.MODEL.N_CLASSES\n",
    "\n",
    "# get number of input features\n",
    "in_features = model.roi_heads.box_predictor.cls_score.in_features\n",
    "\n",
    "# replace head\n",
    "model.roi_heads.box_predictor = FastRCNNPredictor(in_features, num_classes)\n"
   ]
  },
  {
   "cell_type": "markdown",
   "metadata": {},
   "source": [
    "# Training\n",
    "First of all setup device, if available, then sending model to the device.  \n",
    "For optimizer will use SGD with simple scheduler *StepLR.*  \n",
    "Then just train it for *cfg.TRAIN.EPOCHS* using coco_utils tools.  \n",
    "After training save model to *cfg.TRAIN.MODEL_PATH*.  "
   ]
  },
  {
   "cell_type": "code",
   "execution_count": 14,
   "metadata": {},
   "outputs": [],
   "source": [
    "# train on the GPU or on the CPU, if a GPU is not available\n",
    "if torch.cuda.is_available():\n",
    "    device = torch.device('cuda')\n",
    "else:\n",
    "    device = torch.device('cpu')\n"
   ]
  },
  {
   "cell_type": "code",
   "execution_count": 10,
   "metadata": {
    "scrolled": true
   },
   "outputs": [
    {
     "name": "stdout",
     "output_type": "stream",
     "text": [
      "Done.\n"
     ]
    }
   ],
   "source": [
    "# move model to the device\n",
    "model.to(device)\n",
    "\n",
    "# construct an optimizer\n",
    "params = [p for p in model.parameters() if p.requires_grad]\n",
    "optimizer = torch.optim.SGD(params, lr=0.005,\n",
    "                            momentum=0.9, weight_decay=0.0005)\n",
    "# and a learning rate scheduler\n",
    "lr_scheduler = torch.optim.lr_scheduler.StepLR(optimizer,\n",
    "                                               step_size=3,\n",
    "                                               gamma=0.1)\n",
    "\n",
    "for epoch in range(cfg.TRAIN.EPOCHS):\n",
    "    # train for one epoch, printing every 10 iterations\n",
    "    train_one_epoch(model, optimizer, train_dl, device, epoch, print_freq=10)\n",
    "    # update the learning rate\n",
    "    lr_scheduler.step()\n",
    "\n",
    "print(\"Done.\")\n"
   ]
  },
  {
   "cell_type": "code",
   "execution_count": 16,
   "metadata": {},
   "outputs": [],
   "source": [
    "# Save the model\n",
    "torch.save(model.state_dict(), cfg.TRAIN.MODEL_PATH)\n"
   ]
  },
  {
   "cell_type": "markdown",
   "metadata": {},
   "source": [
    "# Inference\n",
    "I didn't use any validation because I got a lot of data and the model that I used actually had pretty decent results.  \n",
    "First of all I prepare the model for inference and loaded test data.\n"
   ]
  },
  {
   "cell_type": "code",
   "execution_count": 15,
   "metadata": {},
   "outputs": [
    {
     "name": "stdout",
     "output_type": "stream",
     "text": [
      "Done.\n"
     ]
    }
   ],
   "source": [
    "''' Load model and prepare for inference '''\n",
    "model.load_state_dict(torch.load(cfg.TRAIN.MODEL_PATH))\n",
    "\n",
    "# move model to the right device\n",
    "model.to(device)\n",
    "model.eval()\n",
    "print('Done.')\n"
   ]
  },
  {
   "cell_type": "code",
   "execution_count": 18,
   "metadata": {},
   "outputs": [
    {
     "data": {
      "text/plain": [
       "array(['1.png', '2.png', '3.png', ..., '13066.png', '13067.png',\n",
       "       '13068.png'], dtype='<U9')"
      ]
     },
     "execution_count": 18,
     "metadata": {},
     "output_type": "execute_result"
    }
   ],
   "source": [
    "''' Loading test files '''\n",
    "# Get filenames\n",
    "test_files = os.listdir(test_folder)\n",
    "\n",
    "# Sort filenames correctly\n",
    "file_numbers = np.array([int(s[:-4]) for s in test_files])\n",
    "sort_idxs = np.argsort(file_numbers)\n",
    "\n",
    "test_files = np.array(test_files)[sort_idxs]\n",
    "test_files\n"
   ]
  },
  {
   "cell_type": "markdown",
   "metadata": {},
   "source": [
    "Above we can see that file names are sorted appropriately.  \n",
    "  \n",
    "Next function just swaps coordinates from (x0,y0,x1,y1) to (y0,x0,y1,x1), for submission formatting. \n"
   ]
  },
  {
   "cell_type": "code",
   "execution_count": 19,
   "metadata": {},
   "outputs": [],
   "source": [
    "def format_boxes(boxes):\n",
    "    ''' Swap coordinates for submition function defeniton '''\n",
    "    x0, y0, x1, y1 = boxes[:, 0], boxes[:, 1], boxes[:, 2], boxes[:, 3]\n",
    "\n",
    "    new_boxes = np.zeros_like(boxes)\n",
    "    new_boxes[:, 0] = y0\n",
    "    new_boxes[:, 1] = x0\n",
    "    new_boxes[:, 2] = y1\n",
    "    new_boxes[:, 3] = x1\n",
    "    return new_boxes\n"
   ]
  },
  {
   "cell_type": "markdown",
   "metadata": {},
   "source": [
    "This is actual inference loop for all test data.  \n",
    "Here we get all prediction results and original image sizes for translating coordinates if we used *cfg.TRAIN.RESIZE_MODE.*   \n",
    "After prediction just format bounding boxes to submission format for convenience.\n"
   ]
  },
  {
   "cell_type": "code",
   "execution_count": 20,
   "metadata": {},
   "outputs": [
    {
     "name": "stdout",
     "output_type": "stream",
     "text": [
      "[13067/13068]\n"
     ]
    }
   ],
   "source": [
    "''' Inference loop\n",
    "    - Get predictions\n",
    "    - Get original image sizes\n",
    "'''\n",
    "\n",
    "predictions = []\n",
    "original_sizes = []\n",
    "\n",
    "for i, fn in enumerate(test_files):\n",
    "    img = Image.open(os.path.join(test_folder, fn))\n",
    "    x = test_transform(img).unsqueeze(0)\n",
    "\n",
    "    pred = model(x.to(device))\n",
    "\n",
    "    boxes = pred[0]['boxes'].detach().cpu().numpy()\n",
    "    labels = pred[0]['labels'].detach().cpu().numpy() + 1\n",
    "    scores = pred[0]['scores'].detach().cpu().numpy()\n",
    "\n",
    "    predictions += [[boxes, labels, scores]]\n",
    "    if cfg.TRAIN.RESIZE_MODE:\n",
    "        original_sizes += [img.size]\n",
    "\n",
    "    clear_output(wait=True)\n",
    "    print('[{}/{}]'.format(i, test_files.size))\n"
   ]
  },
  {
   "cell_type": "code",
   "execution_count": 23,
   "metadata": {},
   "outputs": [],
   "source": [
    "''' Format predicted results '''\n",
    "for i in range(len(predictions)):\n",
    "    predictions[i][0] = format_boxes(predictions[i][0])\n"
   ]
  },
  {
   "cell_type": "code",
   "execution_count": 24,
   "metadata": {},
   "outputs": [
    {
     "data": {
      "text/plain": [
       "[array([[ 7.477458, 40.425076, 40.705524, 59.823414]], dtype=float32),\n",
       " array([5]),\n",
       " array([0.9959733], dtype=float32)]"
      ]
     },
     "execution_count": 24,
     "metadata": {},
     "output_type": "execute_result"
    }
   ],
   "source": [
    "''' Look at predicted results '''\n",
    "predictions[0]\n"
   ]
  },
  {
   "cell_type": "markdown",
   "metadata": {},
   "source": [
    "Above we can take a look at a sample of predicted formated results.  \n",
    "  \n",
    "Next I check inference time, and because it takes look time to predict 7 times for all test data I just used a small patch of it. "
   ]
  },
  {
   "cell_type": "code",
   "execution_count": 30,
   "metadata": {},
   "outputs": [],
   "source": [
    "# Load images\n",
    "num_of_test_im = 5\n",
    "time_test_images = []\n",
    "for i, fn in enumerate(test_files[:num_of_test_im]):\n",
    "    img = Image.open(os.path.join(test_folder, fn))\n",
    "    x = test_transform(img).unsqueeze(0)\n",
    "    time_test_images += [x]\n"
   ]
  },
  {
   "cell_type": "code",
   "execution_count": 31,
   "metadata": {},
   "outputs": [
    {
     "name": "stdout",
     "output_type": "stream",
     "text": [
      "333 ms ± 1.31 ms per loop (mean ± std. dev. of 7 runs, 1 loop each)\n"
     ]
    }
   ],
   "source": [
    "%%timeit\n",
    "# Check inference time\n",
    "for i in range(num_of_test_im):\n",
    "    pred = model(time_test_images[i].to(device))\n"
   ]
  },
  {
   "cell_type": "markdown",
   "metadata": {},
   "source": [
    "Now just select only digits with a score above 0.45, and we get our submission."
   ]
  },
  {
   "cell_type": "code",
   "execution_count": 58,
   "metadata": {},
   "outputs": [
    {
     "data": {
      "text/plain": [
       "13068"
      ]
     },
     "execution_count": 58,
     "metadata": {},
     "output_type": "execute_result"
    }
   ],
   "source": [
    "''' Get predictions only with certainty above threshold value'''\n",
    "sublission = []\n",
    "threshold = 0.45\n",
    "\n",
    "for pred in predictions:\n",
    "    boxes = pred[0]\n",
    "    labels = pred[1]\n",
    "    scores = pred[2]\n",
    "\n",
    "    cond = scores > threshold\n",
    "    scores = scores[cond]\n",
    "    boxes = boxes[cond]\n",
    "    labels = labels[cond]\n",
    "\n",
    "    prediction = {}\n",
    "    prediction['bbox'] = boxes.tolist()\n",
    "    prediction['score'] = scores.tolist()\n",
    "    prediction['label'] = labels.tolist()\n",
    "\n",
    "    sublission += [prediction]\n",
    "\n",
    "len(sublission)\n"
   ]
  },
  {
   "cell_type": "markdown",
   "metadata": {},
   "source": [
    "This part will translate predicted coordinated to the sizes of original images if we used *cfg.TRAIN.RESIZE_MODE*."
   ]
  },
  {
   "cell_type": "code",
   "execution_count": 25,
   "metadata": {},
   "outputs": [],
   "source": [
    "def transform_coords(y0, x0, y1, x1, predicted_size, original_size):\n",
    "    ''' Transforming coordinates function '''\n",
    "    scales = original_size / predicted_size\n",
    "\n",
    "    new_y0 = round(y0 * scales[1])\n",
    "    new_x0 = round(x0 * scales[0])\n",
    "    new_y1 = round(y1 * scales[1])\n",
    "    new_x1 = round(x1 * scales[0])\n",
    "\n",
    "    return new_y0, new_x0, new_y1, new_x1\n"
   ]
  },
  {
   "cell_type": "code",
   "execution_count": 61,
   "metadata": {},
   "outputs": [],
   "source": [
    "''' Progect predicted coordinates from image size (64,64) to original size '''\n",
    "os_sublission = copy.deepcopy(sublission)\n",
    "\n",
    "if cfg.TRAIN.RESIZE_MODE:\n",
    "    # size of train transformed images\n",
    "    T_size = np.array(cfg.TRAIN.RESIZE_SIZE)\n",
    "\n",
    "    for i, sample in enumerate(sublission):\n",
    "        num_digits = len(sample['bbox'])\n",
    "\n",
    "        original_size = np.array(original_sizes[i])\n",
    "\n",
    "        for j in range(num_digits):\n",
    "            y0, x0, y1, x1 = sample['bbox'][j]\n",
    "            _y0, _x0, _y1, _x1 = transform_coords(\n",
    "                y0, x0, y1, x1, T_size, original_size)\n",
    "            os_sublission[i]['bbox'][j] = [_y0, _x0, _y1, _x1]\n",
    "\n",
    "        # Print proogress\n",
    "        clear_output(wait=True)\n",
    "        print(f'[{i}/{len(sublission)}]')\n"
   ]
  },
  {
   "cell_type": "markdown",
   "metadata": {},
   "source": [
    "Now just save prediction into submission file and we done."
   ]
  },
  {
   "cell_type": "code",
   "execution_count": 72,
   "metadata": {},
   "outputs": [],
   "source": [
    "''' Save prediction into json file '''\n",
    "with open('outputs/sublission.json', 'w') as outfile:\n",
    "    json.dump(os_sublission, outfile)\n"
   ]
  },
  {
   "cell_type": "markdown",
   "metadata": {},
   "source": [
    "# Conclusion\n",
    "Out of the shelf method Faster-RCNN performed really well, for training with resizing I get mAP=0.41 but without it I get mAP=0.44. That understandable because when I make images smaller they lose some information due resize interpolation.  \n",
    "And as you can see from a picture below model pretty sure (0.66) that lantern is number 4.\n",
    "\n",
    "P.S.  \n",
    "I didn't put train loop into *train.py* file, because when TA said that I already finished this code, but for next homework I will separate them.\n"
   ]
  },
  {
   "cell_type": "code",
   "execution_count": 71,
   "metadata": {},
   "outputs": [
    {
     "data": {
      "image/png": "[encoded data removed]",
      "text/plain": [
       "<Figure size 432x288 with 1 Axes>"
      ]
     },
     "metadata": {
      "needs_background": "light"
     },
     "output_type": "display_data"
    }
   ],
   "source": [
    "''' Plot original test images and predictions '''\n",
    "img_idx = 12\n",
    "digit_idx = 0\n",
    "\n",
    "test_folder = './test'\n",
    "original_img = Image.open(os.path.join(test_folder, test_files[img_idx]))\n",
    "\n",
    "title = (str(os_sublission[img_idx]['label']) + ' - ' +\n",
    "         str([str(s)[:5] for s in os_sublission[img_idx]['score']]))\n",
    "\n",
    "plt.imshow(original_img)\n",
    "plt.title(title)\n",
    "currentAxis = plt.gca()\n",
    "for coords in os_sublission[img_idx]['bbox']:\n",
    "    _y0, _x0, _y1, _x1 = coords\n",
    "    new_h = _y1 - _y0\n",
    "    new_w = _x1 - _x0\n",
    "\n",
    "    currentAxis.add_patch(Rectangle(\n",
    "        (_x0, _y0), new_w, new_h, fill=None, alpha=1))\n",
    "plt.show()\n"
   ]
  }
 ],
 "metadata": {
  "kernelspec": {
   "display_name": "Python 3",
   "language": "python",
   "name": "python3"
  },
  "language_info": {
   "codemirror_mode": {
    "name": "ipython",
    "version": 3
   },
   "file_extension": ".py",
   "mimetype": "text/x-python",
   "name": "python",
   "nbconvert_exporter": "python",
   "pygments_lexer": "ipython3",
   "version": "3.7.8"
  }
 },
 "nbformat": 4,
 "nbformat_minor": 4
}
